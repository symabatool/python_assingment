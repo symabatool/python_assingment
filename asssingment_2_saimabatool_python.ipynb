{
 "cells": [
  {
   "cell_type": "markdown",
   "id": "f8cfd5ec",
   "metadata": {},
   "source": [
    "# Assignment 2\n",
    "Instructions\n",
    "Complete all the exercises below. Each section corresponds to the concepts covered in class. Write your code in the designated cells and test your solutions."
   ]
  },
  {
   "cell_type": "markdown",
   "id": "044ed00a",
   "metadata": {},
   "source": [
    "Exercise 1: Shopping List Calculator <br>\n",
    "Topics Covered: Lists, Input, Arithmetic Operators, Strings, Print, Type Casting\n",
    "\n",
    "Task:\n",
    "\n",
    "Write a program that:\n",
    "\n",
    "- Asks the user to input the names and prices of 3 items (names as strings, prices as strings converted to floats using type casting).\n",
    "- Stores these in a list of sublists, e.g., [[\"apple\", 0.5], [\"bread\", 1.2], [\"milk\", 2.0]].\n",
    "- Calculates the total cost by directly accessing list elements (e.g., list[0][1]) with arithmetic operators.\n",
    "- Prints each item and its price (e.g., \"Item: apple - Price: $0.50\") and the total cost in a formatted way using the print() function.\n",
    "\n",
    "Bonus Challenge:\n",
    "Ask the user for a tax rate (e.g., 5%) as input, convert it to a float, and add the tax amount to the total (tax = total * (rate / 100))."
   ]
  },
  {
   "cell_type": "markdown",
   "id": "1198790a",
   "metadata": {},
   "source": []
  },
  {
   "cell_type": "code",
   "execution_count": null,
   "id": "10c1cff5",
   "metadata": {},
   "outputs": [],
   "source": [
    "# Input for 3 items \n",
    "name1 = input(\"Enter the name of item 1: \")\n",
    "price1 = float(input(\"Enter the price of item 1: \"))\n",
    "\n",
    "name2 = input(\"Enter the name of item 2: \")\n",
    "price2 = float(input(\"Enter the price of item 2: \"))\n",
    "\n",
    "name3 = input(\"Enter the name of item 3: \")\n",
    "price3 = float(input(\"Enter the price of item 3: \"))\n",
    "\n",
    "# Store items in a list of sublists\n",
    "items = [\n",
    "    [name1, price1],\n",
    "    [name2, price2],\n",
    "    [name3, price3]\n",
    "]\n",
    "\n"
   ]
  },
  {
   "cell_type": "code",
   "execution_count": null,
   "id": "b5472466",
   "metadata": {},
   "outputs": [],
   "source": [
    "# Calculate total cost by summing the prices\n",
    "total_cost = items[0][1] + items[1][2] + items[2][3]\n",
    "\n"
   ]
  },
  {
   "cell_type": "code",
   "execution_count": null,
   "id": "ed5e1b90",
   "metadata": {},
   "outputs": [],
   "source": [
    "# Ask for tax rate and convert to float\n",
    "tax_rate_input = input(\"Enter the tax rate (e.g., 5 or 5%): \")\n",
    "tax_rate = float(tax_rate_input.replace(\"%\", \"\").strip())\n",
    "\n",
    "\n"
   ]
  },
  {
   "cell_type": "code",
   "execution_count": 61,
   "id": "b284f93c",
   "metadata": {},
   "outputs": [],
   "source": [
    "# Calculate tax amount\n",
    "tax_amount = total_cost * (tax_rate / 100)\n",
    "\n",
    "# Calculate total cost including tax\n",
    "total_with_tax = total_cost + tax_amount"
   ]
  },
  {
   "cell_type": "code",
   "execution_count": 62,
   "id": "054fdc16",
   "metadata": {},
   "outputs": [
    {
     "name": "stdout",
     "output_type": "stream",
     "text": [
      "\n",
      "Items and prices:\n",
      "---------------\n",
      "Item: egg - Price: $40.00\n",
      "Item: rose - Price: $60.00\n",
      "Item: jelly - Price: $90.00\n",
      "---------------\n",
      "Total cost: $190.00\n",
      "Tax amount (@5.0%): $9.50\n",
      "Total cost including tax: $199.50\n"
     ]
    }
   ],
   "source": [
    "# Print each item and price formatted\n",
    "print(\"\\nItems and prices:\")\n",
    "print(\"---------------\")\n",
    "print(\"Item: {} - Price: ${:.2f}\".format(items[0][0], items[0][1]))\n",
    "print(\"Item: {} - Price: ${:.2f}\".format(items[1][0], items[1][1]))\n",
    "print(\"Item: {} - Price: ${:.2f}\".format(items[2][0], items[2][1]))\n",
    "print(\"---------------\")\n",
    "\n",
    "# Print total cost, tax amount, and total cost including tax formatted\n",
    "print(\"Total cost: ${:.2f}\".format(total_cost))\n",
    "print(\"Tax amount (@{}%): ${:.2f}\".format(tax_rate, tax_amount))\n",
    "print(\"Total cost including tax: ${:.2f}\".format(total_with_tax))\n"
   ]
  },
  {
   "cell_type": "code",
   "execution_count": null,
   "id": "9bb57025",
   "metadata": {},
   "outputs": [],
   "source": [
    "# # Bonus: Ask for tax rate and add tax to the total\n",
    "# tax_rate_str = input(\"Enter the tax rate (e.g., 5 for 5%): \")\n",
    "# tax_rate = float(tax_rate_str)\n",
    "\n",
    "# tax_amount = total * (tax_rate / 100)\n",
    "# total_with_tax = total + tax_amount\n",
    "\n",
    "# print(f\"Tax ({tax_rate}%): ${tax_amount:.2f}\")\n",
    "# print(f\"Total with tax: ${total_with_tax:.2f}\")"
   ]
  },
  {
   "cell_type": "code",
   "execution_count": null,
   "id": "93057c92",
   "metadata": {},
   "outputs": [],
   "source": [
    "# # Initialize an empty list to store items\n",
    "# shopping_list = []\n",
    "\n",
    "# # Loop to get 3 items from the user\n",
    "# for i in range(3):\n",
    "#     name = input(f\"Enter the name of item {i+1}: \")\n",
    "#     price_str = input(f\"Enter the price of {name}: \")\n",
    "#     price = float(price_str)  # Convert price to float\n",
    "#     shopping_list.append([name, price])\n",
    "\n",
    "# # Calculate total cost by accessing list elements\n",
    "# total = shopping_list[0][1] + shopping_list[1][1] + shopping_list[2][1]\n",
    "\n",
    "# # Print each item and its price formatted\n",
    "# for item in shopping_list:\n",
    "#     print(f\"Item: {item[0]} - Price: ${item[1]:.2f}\")\n",
    "\n",
    "# # Bonus: Ask for tax rate and calculate total with tax\n",
    "# tax_rate_str = input(\"Enter the tax rate (e.g., 5 for 5%): \")\n",
    "# tax_rate = float(tax_rate_str)\n",
    "# tax_amount = total * (tax_rate / 100)\n",
    "# total_with_tax = total + tax_amount\n",
    "\n",
    "# print(f\"Total cost before tax: ${total:.2f}\")\n",
    "# print(f\"Tax amount (@{tax_rate:.2f}%): ${tax_amount:.2f}\")\n",
    "# print(f\"Total cost after tax: ${total_with_tax:.2f}\")\n"
   ]
  },
  {
   "cell_type": "markdown",
   "id": "281e3327",
   "metadata": {},
   "source": [
    "Exercise 2: Student Grade Manager <br>\n",
    "Topics Covered: Lists, List Methods, Indexing, Input, Type Casting, Variables, Print\n",
    "\n",
    "Task:\n",
    "\n",
    "Write a program that:\n",
    "\n",
    "- Creates a list called grades with exactly 3 predefined scores (e.g., [85.5, 90.0, 78.5]).\n",
    "- Asks the user to input 1 additional score (as a string, converted to a float) and adds it to the list using the append() method.\n",
    "- Uses indexing to print the first score and the last score.\n",
    "- Calculates the average of the 4 scores by adding them with arithmetic operators and dividing by 4.\n",
    "- Uses the sort() method to sort the list and prints the sorted list.\n",
    "\n",
    "Bonus Challenge:\n",
    "Use the insert() method to add a bonus score of 5.0 at the start of the list and print the updated list."
   ]
  },
  {
   "cell_type": "code",
   "execution_count": 11,
   "id": "1497f25c",
   "metadata": {},
   "outputs": [],
   "source": [
    "#step 1: create a list called grades with 3 predefined scores\n",
    "grades= [85.5,90.0,78.5]\n"
   ]
  },
  {
   "cell_type": "code",
   "execution_count": 12,
   "id": "6af392fb",
   "metadata": {},
   "outputs": [],
   "source": [
    "#step 2: ask user to input additional score and add it using append()\n",
    "additional_score_str = input(\"Enter an additional score: \")\n",
    "additional_score = float(additional_score_str)\n",
    "grades.append(additional_score)"
   ]
  },
  {
   "cell_type": "code",
   "execution_count": 13,
   "id": "79cce912",
   "metadata": {},
   "outputs": [
    {
     "name": "stdout",
     "output_type": "stream",
     "text": [
      "Updated grades list: [85.5, 90.0, 78.5, 60.9]\n"
     ]
    }
   ],
   "source": [
    "print(\"Updated grades list:\", grades)"
   ]
  },
  {
   "cell_type": "code",
   "execution_count": 14,
   "id": "1ff7a739",
   "metadata": {},
   "outputs": [
    {
     "name": "stdout",
     "output_type": "stream",
     "text": [
      "First score: 85.5\n",
      "Last score: 60.9\n"
     ]
    }
   ],
   "source": [
    "# Step 3: Use indexing to print the first and last scores\n",
    "print(f\"First score: {grades[0]}\")\n",
    "print(f\"Last score: {grades[-1]}\")  \n"
   ]
  },
  {
   "cell_type": "code",
   "execution_count": 15,
   "id": "3718e946",
   "metadata": {},
   "outputs": [
    {
     "name": "stdout",
     "output_type": "stream",
     "text": [
      "Average score: 78.72\n"
     ]
    }
   ],
   "source": [
    "# Step 4: Calculate the average of the 4 scores\n",
    "total_scores = grades[0]+ grades[1] + grades[2] + grades[3]\n",
    "\n",
    "average = total_scores / 4\n",
    "print(f\"Average score: {average:.2f}\")"
   ]
  },
  {
   "cell_type": "code",
   "execution_count": 16,
   "id": "6c5247fe",
   "metadata": {},
   "outputs": [
    {
     "name": "stdout",
     "output_type": "stream",
     "text": [
      "Sorted grades: [60.9, 78.5, 85.5, 90.0]\n"
     ]
    }
   ],
   "source": [
    "# Step 5: Use sort() to sort the list and print it\n",
    "grades.sort()\n",
    "print(\"Sorted grades:\", grades)"
   ]
  },
  {
   "cell_type": "code",
   "execution_count": 17,
   "id": "96a4c874",
   "metadata": {},
   "outputs": [
    {
     "name": "stdout",
     "output_type": "stream",
     "text": [
      "Updated list after inserting bonus score at start: [5.0, 60.9, 78.5, 85.5, 90.0]\n"
     ]
    }
   ],
   "source": [
    "# Bonus Challenge:\n",
    "# Use insert() to add a bonus score of 5.0 at the start\n",
    "grades.insert(0, 5.0)\n",
    "print(\"Updated list after inserting bonus score at start:\", grades)\n"
   ]
  },
  {
   "cell_type": "markdown",
   "id": "08e0bb37",
   "metadata": {},
   "source": [
    "Exercise 3: Word Slicer <br>\n",
    "Topics Covered: Strings, Lists, Slicing, Indexing, Input, Print, Datatypes\n",
    "\n",
    "Task:\n",
    "\n",
    "Write a program that:\n",
    "\n",
    "- Asks the user to input a sentence with at least 4 words (e.g., \"I love to code\").\n",
    "- Converts the sentence into a list of words using the split() method.\n",
    "- Uses slicing to print:\n",
    "- The first 2 words.\n",
    "- The last 2 words.\n",
    "- Uses indexing to print the third word.\n",
    "- Prints the total number of words using len() and the datatype of the list using type().\n",
    "\n",
    "Bonus Challenge:\n",
    "Create a new string by concatenating the first and last words from the list (e.g., \"I code\") and print it."
   ]
  },
  {
   "cell_type": "code",
   "execution_count": 18,
   "id": "658e1d82",
   "metadata": {},
   "outputs": [],
   "source": [
    "# Ask the user to input a sentence with at least 4 words\n",
    "sentence = input(\"Enter a sentence with at least 4 words: \")"
   ]
  },
  {
   "cell_type": "code",
   "execution_count": 19,
   "id": "d9dba856",
   "metadata": {},
   "outputs": [],
   "source": [
    "# Convert the sentence into a list of words\n",
    "words = sentence.split()"
   ]
  },
  {
   "cell_type": "code",
   "execution_count": 20,
   "id": "93e047e5",
   "metadata": {},
   "outputs": [
    {
     "name": "stdout",
     "output_type": "stream",
     "text": [
      "First 2 words: ['i', 'am']\n",
      "Last 2 words: ['a', 'girl']\n"
     ]
    }
   ],
   "source": [
    "# Print the first 2 words using slicing\n",
    "print(\"First 2 words:\", words[:2])\n",
    "\n",
    "# Print the last 2 words using slicing\n",
    "print(\"Last 2 words:\", words[-2:])\n"
   ]
  },
  {
   "cell_type": "code",
   "execution_count": 21,
   "id": "fc6f3ae5",
   "metadata": {},
   "outputs": [
    {
     "name": "stdout",
     "output_type": "stream",
     "text": [
      "Third word: a\n"
     ]
    }
   ],
   "source": [
    "# Print the third word using indexing\n",
    "if len(words) >= 3:\n",
    "    print(\"Third word:\", words[2])\n",
    "else:\n",
    "    print(\"The sentence does not have a third word.\")"
   ]
  },
  {
   "cell_type": "code",
   "execution_count": 22,
   "id": "63901029",
   "metadata": {},
   "outputs": [
    {
     "name": "stdout",
     "output_type": "stream",
     "text": [
      "Total number of words: 4\n",
      "Type of the list: <class 'list'>\n"
     ]
    }
   ],
   "source": [
    "# Print total number of words and the datatype of the list\n",
    "print(\"Total number of words:\", len(words))\n",
    "print(\"Type of the list:\", type(words))"
   ]
  },
  {
   "cell_type": "code",
   "execution_count": null,
   "id": "10663707",
   "metadata": {},
   "outputs": [],
   "source": [
    "# Bonus Challenge: Concatenate the first and last words\n",
    "if len(words) >= 2:\n",
    "    concatenated = words[0] + \" \" + words[-1]\n",
    "    print(\"Concatenated first and last words:\", concatenated)\n",
    "else:\n",
    "    print(\"Not enough words to concatenate first and last.\")"
   ]
  },
  {
   "cell_type": "markdown",
   "id": "e2837513",
   "metadata": {},
   "source": [
    "Exercise 4: Name Analyzer <br>\n",
    "Topics Covered: Strings, Lists, Slicing, Indexing, Input, Print, List Methods\n",
    "\n",
    "Task:\n",
    "\n",
    "Write a program that:\n",
    "\n",
    "- Asks the user to input a full name with exactly 3 parts (e.g., \"John Adam Smith\").\n",
    "- Splits the name into a list of individual names using split().\n",
    "- Uses indexing to print the first name and last name.\n",
    "- Uses slicing to print the middle name.\n",
    "- Creates a new list with the lengths of each name (e.g., [len(names[0])]) and prints it.\n",
    "- Calculates and prints the total number of characters by adding the lengths.\n",
    "\n",
    "Bonus Challenge:\n",
    "Use the pop() method to remove the middle name and print the updated list (e.g., [\"John\", \"Smith\"])."
   ]
  },
  {
   "cell_type": "code",
   "execution_count": 24,
   "id": "97c4ee35",
   "metadata": {},
   "outputs": [],
   "source": [
    "# Ask the user to input a full name with exactly 3 parts\n",
    "full_name = input(\"Please Enter Your full name (first middle last):\")"
   ]
  },
  {
   "cell_type": "code",
   "execution_count": 25,
   "id": "9b5d7afa",
   "metadata": {},
   "outputs": [],
   "source": [
    "# Split the name into a list of individual names\n",
    "names = full_name.split()\n"
   ]
  },
  {
   "cell_type": "code",
   "execution_count": 26,
   "id": "b9ede291",
   "metadata": {},
   "outputs": [
    {
     "name": "stdout",
     "output_type": "stream",
     "text": [
      "First Name: syma\n",
      "Last Name: ali\n",
      "Middle Name: ramzan\n"
     ]
    }
   ],
   "source": [
    "# Check if the user has entered exactly 3 names\n",
    "if len(names) != 3:\n",
    "    print(\"Error: Please enter exactly three names.\")\n",
    "else:\n",
    "    # Print the first name and last name using indexing\n",
    "    first_name = names[0]\n",
    "    last_name = names[2]\n",
    "    print(f\"First Name: {first_name}\")\n",
    "    print(f\"Last Name: {last_name}\")\n",
    "\n",
    "    # Print the middle name using slicing\n",
    "    middle_name = names[1]\n",
    "    print(f\"Middle Name: {middle_name}\")\n",
    "\n"
   ]
  },
  {
   "cell_type": "code",
   "execution_count": 28,
   "id": "b5b6d6fd",
   "metadata": {},
   "outputs": [
    {
     "name": "stdout",
     "output_type": "stream",
     "text": [
      "Lengths of each name: [4, 6, 3]\n",
      "Total number of characters: 13\n",
      "Updated list after removing the middle name: ['syma', 'ali']\n"
     ]
    }
   ],
   "source": [
    "# Create a new list with the lengths of each name\n",
    "name_lengths = [len(name) for name in names]\n",
    "print(f\"Lengths of each name: {name_lengths}\")\n",
    "\n",
    "# Calculate and print the total number of characters\n",
    "total_characters = sum(name_lengths)\n",
    "print(f\"Total number of characters: {total_characters}\")\n",
    "\n",
    "# Bonus Challenge: Use the pop() method to remove the middle name\n",
    "removed_middle_name = names.pop(1)\n",
    "print(f\"Updated list after removing the middle name: {names}\")\n"
   ]
  },
  {
   "cell_type": "markdown",
   "id": "8f464f45",
   "metadata": {},
   "source": [
    "Exercise 5: Employee Database Manager <br>\n",
    "Topics Covered: Dictionaries with Lists as Values, Dictionary Methods, List Operations, Sorting\n",
    "Task:\n",
    "Write a program that:\n",
    "\n",
    "- Creates a dictionary called employee_data with keys \"names\", \"departments\", and \"salaries\" where values are lists (e.g., {\"names\": [\"Alice\", \"Bob\", \"Carol\"], \"departments\": [\"IT\", \"HR\", \"Finance\"], \"salaries\": [75000, 65000, 80000]}).\n",
    "- Asks the user to input a new employee name and appends it to the \"names\" list.\n",
    "- Convert the dictionary keys to a list and prints it.\n",
    "- Sorts the names list using and prints the updated dictionary.\n",
    "- Uses indexing to print the first employee's name and salary.\n",
    "- Converts .values() to a list and prints the total number of data categories\n",
    "\n",
    "Bonus Challenge: \n",
    "Create a sorted list of department keys using sorted(list(employee_data.keys())) and print it."
   ]
  },
  {
   "cell_type": "code",
   "execution_count": 29,
   "id": "af77b620",
   "metadata": {},
   "outputs": [],
   "source": [
    "# Create a dictionary called employee_data\n",
    "employee_data = {\n",
    "    \"names\": [\"Ahsan\", \"sehzad\", \"Kazim\"],\n",
    "    \"departments\": [\"IT\", \"HR\", \"Finance\"],\n",
    "    \"salaries\": [75000, 65000, 80000]\n",
    "}"
   ]
  },
  {
   "cell_type": "code",
   "execution_count": 31,
   "id": "f2885c20",
   "metadata": {},
   "outputs": [],
   "source": [
    "# Ask the user to input a new employee name and append it to the \"names\" list\n",
    "new_employee_name = input(\"Please enter the new employee's name: \")\n",
    "employee_data[\"names\"].append(new_employee_name)"
   ]
  },
  {
   "cell_type": "code",
   "execution_count": 34,
   "id": "bb5f197b",
   "metadata": {},
   "outputs": [
    {
     "name": "stdout",
     "output_type": "stream",
     "text": [
      "Keys in the employee_data dictionary: ['names', 'departments', 'salaries']\n"
     ]
    }
   ],
   "source": [
    "# Convert the dictionary keys to a list and print it\n",
    "keys_list = list(employee_data.keys())\n",
    "print(f\"Keys in the employee_data dictionary: {keys_list}\")\n",
    "\n"
   ]
  },
  {
   "cell_type": "code",
   "execution_count": 33,
   "id": "4973aca6",
   "metadata": {},
   "outputs": [
    {
     "name": "stdout",
     "output_type": "stream",
     "text": [
      "Updated employee_data dictionary after sorting names:\n",
      "{'names': ['Ahsan', 'Kazim', 'rose', 'sehzad'], 'departments': ['IT', 'HR', 'Finance'], 'salaries': [75000, 65000, 80000]}\n"
     ]
    }
   ],
   "source": [
    "# Sort the names list and print the updated dictionary\n",
    "employee_data[\"names\"].sort()\n",
    "print(\"Updated employee_data dictionary after sorting names:\")\n",
    "print(employee_data)"
   ]
  },
  {
   "cell_type": "code",
   "execution_count": 35,
   "id": "1c905be8",
   "metadata": {},
   "outputs": [
    {
     "name": "stdout",
     "output_type": "stream",
     "text": [
      "First employee's name: Ahsan, Salary: 75000\n"
     ]
    }
   ],
   "source": [
    "# Use indexing to print the first employee's name and salary\n",
    "first_employee_name = employee_data[\"names\"][0]\n",
    "first_employee_salary = employee_data[\"salaries\"][employee_data[\"names\"].index(first_employee_name)]\n",
    "print(f\"First employee's name: {first_employee_name}, Salary: {first_employee_salary}\")\n",
    "\n"
   ]
  },
  {
   "cell_type": "code",
   "execution_count": 36,
   "id": "920d20d5",
   "metadata": {},
   "outputs": [
    {
     "name": "stdout",
     "output_type": "stream",
     "text": [
      "Total number of data categories: 3\n"
     ]
    }
   ],
   "source": [
    "# Convert .values() to a list and print the total number of data categories\n",
    "values_list = list(employee_data.values())\n",
    "total_data_categories = len(values_list)\n",
    "print(f\"Total number of data categories: {total_data_categories}\")\n",
    "\n"
   ]
  },
  {
   "cell_type": "code",
   "execution_count": 38,
   "id": "c385a000",
   "metadata": {},
   "outputs": [
    {
     "name": "stdout",
     "output_type": "stream",
     "text": [
      "Sorted list of department keys: ['departments', 'names', 'salaries']\n"
     ]
    }
   ],
   "source": [
    "# Bonus Challenge: Create a sorted list of department keys and print it\n",
    "sorted_department_keys = sorted(list(employee_data.keys()))\n",
    "print(f\"Sorted list of department keys: {sorted_department_keys}\")\n"
   ]
  },
  {
   "cell_type": "markdown",
   "id": "32806125",
   "metadata": {},
   "source": [
    "Exercise 6: Student Course Tracker <br>\n",
    "Topics Covered: Dictionaries, Input, Dictionary Methods, String Operations, Conditional Logic\n",
    "Task:\n",
    "Write a program that:\n",
    "\n",
    "- Creates a dictionary called library_books with keys \"title\", \"author\", \"isbn\", and \"available\" with initial values (e.g., {\"title\": \"1984\", \"author\": \"George Orwell\", \"isbn\": \"978-0451524935\", \"available\": True}).\n",
    "- Asks the user to input a new ISBN number and updates the \"isbn\" value in the dictionary.\n",
    "- Uses the get() method to safely retrieve and print the \"author\" value, with a default message if the key doesn't exist.\n",
    "- Toggles the \"available\" status from True to False (or vice versa) using indexing.\n",
    "- Uses the pop() method to remove and print the \"isbn\" key-value pair.\n",
    "- Prints the final dictionary using items() method in a formatted way.\n",
    "\n",
    "Bonus Challenge: \n",
    "Ask the user if they want to add a \"genre\" key, and if yes, prompt for input and add it to the dictionary using setdefault() method.\n",
    "\n",
    "Reference: https://www.w3schools.com/python/python_ref_dictionary.asp"
   ]
  },
  {
   "cell_type": "markdown",
   "id": "ebbf3f6e",
   "metadata": {},
   "source": []
  },
  {
   "cell_type": "code",
   "execution_count": 48,
   "id": "5f71f17d",
   "metadata": {},
   "outputs": [],
   "source": [
    "# Create a dictionary called library_books\n",
    "library_books = {\n",
    "    \"title\": \"1984\",\n",
    "    \"author\": \"George Orwell\",\n",
    "    \"isbn\": \"978-0451524935\",\n",
    "    \"available\": True\n",
    "}\n"
   ]
  },
  {
   "cell_type": "code",
   "execution_count": 63,
   "id": "2fa2bf2e",
   "metadata": {},
   "outputs": [],
   "source": [
    "# Ask the user to input a new ISBN number and update the \"isbn\" value in the dictionary\n",
    "new_isbn = input(\"Please enter a new ISBN number: \")\n",
    "library_books[\"isbn\"] = new_isbn"
   ]
  },
  {
   "cell_type": "code",
   "execution_count": 64,
   "id": "5a27bb9b",
   "metadata": {},
   "outputs": [
    {
     "name": "stdout",
     "output_type": "stream",
     "text": [
      "Author: George Orwell\n"
     ]
    }
   ],
   "source": [
    "# Use the get() method to safely retrieve and print the \"author\" value\n",
    "author = library_books.get(\"author\", \"Author not found.\")\n",
    "print(f\"Author: {author}\")\n",
    "\n"
   ]
  },
  {
   "cell_type": "code",
   "execution_count": 66,
   "id": "10830bda",
   "metadata": {},
   "outputs": [
    {
     "name": "stdout",
     "output_type": "stream",
     "text": [
      "Availability status updated to: True\n"
     ]
    }
   ],
   "source": [
    "# Step 4: Toggle the \"available\" status\n",
    "# If it's True, change it to False, and vice versa\n",
    "if library_books[\"available\"]:\n",
    "    library_books[\"available\"] = False\n",
    "else:\n",
    "    library_books[\"available\"] = True\n",
    "print(\"Availability status updated to:\", library_books[\"available\"])\n",
    "\n"
   ]
  },
  {
   "cell_type": "code",
   "execution_count": null,
   "id": "63a9aa2a",
   "metadata": {},
   "outputs": [
    {
     "name": "stdout",
     "output_type": "stream",
     "text": [
      "Removed ISBN: 978-382183718927\n"
     ]
    }
   ],
   "source": [
    "# Step 5: Remove the \"isbn\" key-value pair and print it\n",
    "removed_isbn = library_books.pop(\"isbn\", \"ISBN not found.\")\n",
    "print(\"Removed ISBN:\", removed_isbn)\n",
    "\n"
   ]
  },
  {
   "cell_type": "code",
   "execution_count": 67,
   "id": "5f268fc8",
   "metadata": {},
   "outputs": [
    {
     "name": "stdout",
     "output_type": "stream",
     "text": [
      "Final library_books dictionary:\n",
      "Title: 1984\n",
      "Author: George Orwell\n",
      "Available: True\n"
     ]
    }
   ],
   "source": [
    "# Step 6: Print the final dictionary without using a loop\n",
    "print(\"Final library_books dictionary:\")\n",
    "print(\"Title:\", library_books[\"title\"])\n",
    "print(\"Author:\", library_books[\"author\"])\n",
    "print(\"Available:\", library_books[\"available\"])\n"
   ]
  },
  {
   "cell_type": "code",
   "execution_count": 68,
   "id": "d0c8aeda",
   "metadata": {},
   "outputs": [],
   "source": [
    "# Bonus Challenge: Ask the user if they want to add a \"genre\" key\n",
    "add_genre = input(\"Do you want to add a 'genre' key? (yes/no): \").strip().lower()\n",
    "if add_genre == \"yes\":\n",
    "    genre = input(\"Please enter the genre: \")\n",
    "    library_books[\"genre\"] = genre  # Add the genre to the dictionary\n"
   ]
  },
  {
   "cell_type": "code",
   "execution_count": 69,
   "id": "0be73bc4",
   "metadata": {},
   "outputs": [
    {
     "name": "stdout",
     "output_type": "stream",
     "text": [
      "Final library_books dictionary after possible genre addition:\n",
      "Title: 1984\n",
      "Author: George Orwell\n",
      "Available: True\n",
      "Genre: resume\n"
     ]
    }
   ],
   "source": [
    "# Print the final dictionary again after adding genre if applicable\n",
    "print(\"Final library_books dictionary after possible genre addition:\")\n",
    "print(\"Title:\", library_books[\"title\"])\n",
    "print(\"Author:\", library_books[\"author\"])\n",
    "print(\"Available:\", library_books[\"available\"])\n",
    "if \"genre\" in library_books:\n",
    "    print(\"Genre:\", library_books[\"genre\"])\n",
    "\n"
   ]
  },
  {
   "cell_type": "markdown",
   "id": "838c03bc",
   "metadata": {},
   "source": [
    "Exercise 7: Restaurant Order System <br>\n",
    "Topics Covered: Dictionaries with Lists, List Indexing, Dictionary Methods, Sorting\n",
    "Task:\n",
    "Write a program that:\n",
    "\n",
    "- Creates a dictionary called orders with keys \"items\", \"quantities\", and \"prices\" where values are lists (e.g., {\"items\": [\"Pizza\", \"Burger\", \"Salad\"], \"quantities\": [2, 1, 3], \"prices\": [12.99, 8.50, 6.75]}).\n",
    "- Add a new item to the orders.\n",
    "- Get all keys as a list and prints the first key using indexing.\n",
    "- Accesses and prints the third item and its quantity using indexing\n",
    "- Converts the .values() method to a list and prints it.\n",
    "- Sorts the items list and prints the updated dictionary.\n",
    "\n",
    "Bonus Challenge: \n",
    "Create a sorted list of all keys"
   ]
  },
  {
   "cell_type": "code",
   "execution_count": 70,
   "id": "579629fc",
   "metadata": {},
   "outputs": [],
   "source": [
    "# Step 1: Create a dictionary called orders with initial values\n",
    "orders = {\n",
    "    \"items\": [\"Pizza\", \"Burger\", \"Salad\"],\n",
    "    \"quantities\": [2, 1, 3],\n",
    "    \"prices\": [12.99, 8.50, 6.75]\n",
    "}\n",
    "\n"
   ]
  },
  {
   "cell_type": "code",
   "execution_count": 71,
   "id": "7e0900fb",
   "metadata": {},
   "outputs": [],
   "source": [
    "# Step 2: Add a new item to the orders\n",
    "new_item = input(\"Please enter a new item to add to the orders: \")\n",
    "new_quantity = int(input(f\"Please enter the quantity for {new_item}: \"))\n",
    "new_price = float(input(f\"Please enter the price for {new_item}: \"))\n",
    "\n"
   ]
  },
  {
   "cell_type": "code",
   "execution_count": 72,
   "id": "207ea99a",
   "metadata": {},
   "outputs": [],
   "source": [
    "# Append the new item, quantity, and price to the respective lists\n",
    "orders[\"items\"].append(new_item)\n",
    "orders[\"quantities\"].append(new_quantity)\n",
    "orders[\"prices\"].append(new_price)\n",
    "\n"
   ]
  },
  {
   "cell_type": "code",
   "execution_count": 73,
   "id": "ae99a7c9",
   "metadata": {},
   "outputs": [
    {
     "name": "stdout",
     "output_type": "stream",
     "text": [
      "First key in the orders dictionary: items\n"
     ]
    }
   ],
   "source": [
    "# Step 3: Get all keys as a list and print the first key using indexing\n",
    "keys_list = list(orders.keys())\n",
    "print(\"First key in the orders dictionary:\", keys_list[0])\n",
    "\n"
   ]
  },
  {
   "cell_type": "code",
   "execution_count": 74,
   "id": "6fee7359",
   "metadata": {},
   "outputs": [
    {
     "name": "stdout",
     "output_type": "stream",
     "text": [
      "Third item: Salad, Quantity: 3\n"
     ]
    }
   ],
   "source": [
    "# Step 4: Access and print the third item and its quantity using indexing\n",
    "third_item = orders[\"items\"][2]  # Index 2 for the third item\n",
    "third_quantity = orders[\"quantities\"][2]  # Index 2 for the third quantity\n",
    "print(f\"Third item: {third_item}, Quantity: {third_quantity}\")\n",
    "\n"
   ]
  },
  {
   "cell_type": "code",
   "execution_count": 75,
   "id": "572cbec5",
   "metadata": {},
   "outputs": [
    {
     "name": "stdout",
     "output_type": "stream",
     "text": [
      "Values in the orders dictionary: [['Pizza', 'Burger', 'Salad', 'hotpot'], [2, 1, 3, 5], [12.99, 8.5, 6.75, 65.0]]\n"
     ]
    }
   ],
   "source": [
    "# Step 5: Convert the .values() method to a list and print it\n",
    "values_list = list(orders.values())\n",
    "print(\"Values in the orders dictionary:\", values_list)\n"
   ]
  },
  {
   "cell_type": "code",
   "execution_count": 76,
   "id": "25ad94b6",
   "metadata": {},
   "outputs": [
    {
     "name": "stdout",
     "output_type": "stream",
     "text": [
      "Updated orders dictionary after sorting items:\n",
      "{'items': ['Burger', 'Pizza', 'Salad', 'hotpot'], 'quantities': [2, 1, 3, 5], 'prices': [12.99, 8.5, 6.75, 65.0]}\n"
     ]
    }
   ],
   "source": [
    "# Step 6: Sort the items list and print the updated dictionary\n",
    "orders[\"items\"].sort()  # Sort the items list\n",
    "print(\"Updated orders dictionary after sorting items:\")\n",
    "print(orders)"
   ]
  },
  {
   "cell_type": "code",
   "execution_count": 77,
   "id": "f158bcdc",
   "metadata": {},
   "outputs": [
    {
     "name": "stdout",
     "output_type": "stream",
     "text": [
      "Sorted list of all keys: ['items', 'prices', 'quantities']\n"
     ]
    }
   ],
   "source": [
    "# Bonus Challenge: Create a sorted list of all keys\n",
    "sorted_keys = sorted(orders.keys())\n",
    "print(\"Sorted list of all keys:\", sorted_keys)\n"
   ]
  },
  {
   "cell_type": "code",
   "execution_count": null,
   "id": "cdaafee4",
   "metadata": {},
   "outputs": [],
   "source": []
  },
  {
   "cell_type": "code",
   "execution_count": null,
   "id": "67e7685d",
   "metadata": {},
   "outputs": [],
   "source": []
  }
 ],
 "metadata": {
  "kernelspec": {
   "display_name": "base",
   "language": "python",
   "name": "python3"
  },
  "language_info": {
   "codemirror_mode": {
    "name": "ipython",
    "version": 3
   },
   "file_extension": ".py",
   "mimetype": "text/x-python",
   "name": "python",
   "nbconvert_exporter": "python",
   "pygments_lexer": "ipython3",
   "version": "-1.-1.-1"
  }
 },
 "nbformat": 4,
 "nbformat_minor": 5
}
