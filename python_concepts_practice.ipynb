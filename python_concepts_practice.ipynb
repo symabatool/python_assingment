{
 "cells": [
  {
   "cell_type": "markdown",
   "id": "c28affa9",
   "metadata": {},
   "source": [
    "# Python Basics Assignment Notebook\n",
    "Instructions\n",
    "Complete all the exercises below. Each section corresponds to the concepts covered in class. Write your code in the designated cells and test your solutions."
   ]
  },
  {
   "cell_type": "markdown",
   "id": "d753050e",
   "metadata": {},
   "source": [
    "# Section 1: Print Statements and Basic Operations\n",
    "### Exercise 1.1: Print Statement\n",
    "\n",
    "Write a print statement that displays your name."
   ]
  },
  {
   "cell_type": "code",
   "execution_count": 1,
   "id": "5dd3cbe8",
   "metadata": {},
   "outputs": [
    {
     "name": "stdout",
     "output_type": "stream",
     "text": [
      "Saima Battol\n"
     ]
    }
   ],
   "source": [
    "print(\"Saima Battol\")"
   ]
  },
  {
   "cell_type": "markdown",
   "id": "9787a1fc",
   "metadata": {},
   "source": [
    "### Exercise 1.2: Arithmetic Operations\n",
    "Calculate and print the results of the following operations:\n",
    "\n",
    "- Add 15 and 25\n",
    "- Subtract 30 from 50\n",
    "- Multiply 7 by 8\n",
    "- Divide 100 by 4\n",
    "- Find the integer division of 100 by 3\n",
    "- Find the remainder when 100 is divided by 3\n",
    "- Calculate 2 to the power of 5"
   ]
  },
  {
   "cell_type": "code",
   "execution_count": 51,
   "id": "0e3f8a53",
   "metadata": {},
   "outputs": [
    {
     "name": "stdout",
     "output_type": "stream",
     "text": [
      "15 + 25 = 40\n"
     ]
    }
   ],
   "source": [
    "# Your code here\n",
    "# Add 15 and 25\n",
    "print(\"15 + 25 =\", 15 + 25)"
   ]
  },
  {
   "cell_type": "code",
   "execution_count": 52,
   "id": "68ed712c",
   "metadata": {},
   "outputs": [
    {
     "name": "stdout",
     "output_type": "stream",
     "text": [
      "50 -30= 20\n"
     ]
    }
   ],
   "source": [
    "# subtract 30 from 50\n",
    "print(\"50 -30=\" ,50 - 30)\n"
   ]
  },
  {
   "cell_type": "markdown",
   "id": "bfa00188",
   "metadata": {},
   "source": [
    "Construct the following equation and calculate the value the value of y using Python\n",
    "![Alt text](image.png)"
   ]
  },
  {
   "cell_type": "code",
   "execution_count": 53,
   "id": "040487de",
   "metadata": {},
   "outputs": [
    {
     "name": "stdout",
     "output_type": "stream",
     "text": [
      "7 * 8 = 56\n"
     ]
    }
   ],
   "source": [
    "# Multiply 7 by 8\n",
    "print(\"7 * 8 =\", 7 * 8)\n"
   ]
  },
  {
   "cell_type": "code",
   "execution_count": null,
   "id": "960bd718",
   "metadata": {},
   "outputs": [
    {
     "name": "stdout",
     "output_type": "stream",
     "text": [
      "100 / 4 = 25\n"
     ]
    }
   ],
   "source": [
    "# Your code here\n",
    "\n",
    "# Divide 100 by 4\n",
    "print(\"100 / 4 =\", 100 / 4)\n",
    "\n"
   ]
  },
  {
   "cell_type": "code",
   "execution_count": 72,
   "id": "a7101c93",
   "metadata": {},
   "outputs": [
    {
     "name": "stdout",
     "output_type": "stream",
     "text": [
      "100 // 3 = 33\n"
     ]
    }
   ],
   "source": [
    "# Integer division of 100 by 3\n",
    "print(\"100 // 3 =\", 100 // 3)\n",
    "\n"
   ]
  },
  {
   "cell_type": "code",
   "execution_count": 73,
   "id": "631f79bd",
   "metadata": {},
   "outputs": [
    {
     "name": "stdout",
     "output_type": "stream",
     "text": [
      "100 % 3 = 1\n"
     ]
    }
   ],
   "source": [
    "# Remainder when 100 is divided by 3\n",
    "print(\"100 % 3 =\", 100 % 3)\n",
    "\n"
   ]
  },
  {
   "cell_type": "code",
   "execution_count": 74,
   "id": "9c3fa71a",
   "metadata": {},
   "outputs": [
    {
     "name": "stdout",
     "output_type": "stream",
     "text": [
      "2 ** 5 = 32\n"
     ]
    }
   ],
   "source": [
    "# Calculate 2 to the power of 5\n",
    "print(\"2 ** 5 =\", 2 ** 5)"
   ]
  },
  {
   "cell_type": "markdown",
   "id": "5498283c",
   "metadata": {},
   "source": [
    "#  Section 2: Variables and Assignment Operators\n",
    "### Exercise 2.1: Variable Assignment\n",
    "\n",
    "Create variables with the following values:\n",
    "\n",
    "- student_name = your name\n",
    "- age = your age\n",
    "- grade = your current grade/class\n",
    "\n",
    "Print all three variables."
   ]
  },
  {
   "cell_type": "code",
   "execution_count": 75,
   "id": "389df365",
   "metadata": {},
   "outputs": [
    {
     "name": "stdout",
     "output_type": "stream",
     "text": [
      "Student Name: Saima Batool\n",
      "Age: 40\n",
      "Grade: 18th Grade\n"
     ]
    }
   ],
   "source": [
    "#Create variables with the following values:\n",
    "\n",
    "student_name = \"Saima Batool\"\n",
    "age = 40\n",
    "grade = \"18th Grade\"\n",
    "\n",
    "print(\"Student Name:\", student_name)\n",
    "print(\"Age:\", age)\n",
    "print(\"Grade:\", grade)\n"
   ]
  },
  {
   "cell_type": "markdown",
   "id": "1e7171bb",
   "metadata": {},
   "source": [
    "### Exercise 2.2: Mathematical Operations with Variables\n",
    "Create two variables a = 10 and b = 5. Then:\n",
    "\n",
    "- Calculate their sum and store in variable sum_result\n",
    "- Calculate their product and store in variable product_result\n",
    "- Print both results"
   ]
  },
  {
   "cell_type": "code",
   "execution_count": 76,
   "id": "855024ba",
   "metadata": {},
   "outputs": [
    {
     "name": "stdout",
     "output_type": "stream",
     "text": [
      "Sum: 15\n",
      "Product: 50\n"
     ]
    }
   ],
   "source": [
    "# Your code here\n",
    "a=10\n",
    "b=5\n",
    "sum_result = a + b\n",
    "product_result = a * b\n",
    "\n",
    "# Print the results\n",
    "print(\"Sum:\", sum_result)\n",
    "print(\"Product:\", product_result)\n",
    "\n",
    "\n"
   ]
  },
  {
   "cell_type": "markdown",
   "id": "43f5582a",
   "metadata": {},
   "source": [
    "### Exercise 2.3: Increment and Decrement Operators\n",
    "Start with a variable counter = 0:\n",
    "\n",
    "- Increment it by 3 using the += operator\n",
    "- Print the result\n",
    "- Decrement it by 1 using the -= operator\n",
    "- Print the final result"
   ]
  },
  {
   "cell_type": "code",
   "execution_count": 57,
   "id": "715a472d",
   "metadata": {},
   "outputs": [],
   "source": [
    "# Your code here"
   ]
  },
  {
   "cell_type": "markdown",
   "id": "a302e721",
   "metadata": {},
   "source": [
    "# Section 3: Data Types\n",
    "### Exercise 3.1: Identifying Data Types\n",
    "Create variables of different types and check their types:\n",
    "\n",
    "- An integer: num1 = 42\n",
    "- A string: text1 = \"Python Programming\"\n",
    "- A float: decimal1 = 3.14159\n",
    "- A boolean: is_student = True\n",
    "\n",
    "Use the type() function to check and print the type of each variable."
   ]
  },
  {
   "cell_type": "code",
   "execution_count": 77,
   "id": "3e240477",
   "metadata": {},
   "outputs": [
    {
     "name": "stdout",
     "output_type": "stream",
     "text": [
      "Type of num1: <class 'int'>\n",
      "Type of text1: <class 'str'>\n",
      "Type of decimal1: <class 'float'>\n",
      "Type of is_student: <class 'bool'>\n"
     ]
    }
   ],
   "source": [
    "# Create variables of different types\n",
    "num1 = 42\n",
    "text1 = \"Python Programming\"\n",
    "decimal1 = 3.14159\n",
    "is_student = True\n",
    "\n",
    "# Print the type of each variable\n",
    "print(\"Type of num1:\", type(num1))\n",
    "print(\"Type of text1:\", type(text1))\n",
    "print(\"Type of decimal1:\", type(decimal1))\n",
    "print(\"Type of is_student:\", type(is_student))\n"
   ]
  },
  {
   "cell_type": "markdown",
   "id": "783be222",
   "metadata": {},
   "source": [
    "# Section 4: Strings and String Handling\n",
    "### Exercise 4.1: String Creation\n",
    "Create three string variables:\n",
    "\n",
    "- greeting = \"Hello\"\n",
    "- name = \"Python\"\n",
    "- exclamation = \"!\""
   ]
  },
  {
   "cell_type": "code",
   "execution_count": 79,
   "id": "768bab0f",
   "metadata": {},
   "outputs": [],
   "source": [
    "# Your code here\n",
    "greeting= \"Hello\"\n",
    "name=\"Python\"\n",
    "exclamation=\"!\""
   ]
  },
  {
   "cell_type": "markdown",
   "id": "8d579589",
   "metadata": {},
   "source": [
    "### Exercise 4.2: String Concatenation\n",
    "Using the variables from Exercise 4.1, concatenate them to create:\n",
    "\n",
    "- \"Hello Python!\"\n",
    "- \"Python Hello!\"\n",
    "\n",
    "Print both results."
   ]
  },
  {
   "cell_type": "code",
   "execution_count": 81,
   "id": "72208381",
   "metadata": {},
   "outputs": [
    {
     "name": "stdout",
     "output_type": "stream",
     "text": [
      "Hello Python!\n",
      "Python Hello!\n"
     ]
    }
   ],
   "source": [
    "# Your code here\n",
    "# Concatenate to create \"Hello Python!\"\n",
    "result1 = greeting + \" \" + name + exclamation\n",
    "\n",
    "# Concatenate to create \"Python Hello!\"\n",
    "result2 = name + \" \" + greeting + exclamation\n",
    "\n",
    "print(result1)\n",
    "print(result2)"
   ]
  },
  {
   "cell_type": "markdown",
   "id": "cf66e2a4",
   "metadata": {},
   "source": [
    "### Exercise 4.3: String and Number Concatenation\n",
    "Create:\n",
    "\n",
    "- label = \"Your score is: \"\n",
    "- score = 95\n",
    "\n",
    "Concatenate them to print \"Your score is: 95\""
   ]
  },
  {
   "cell_type": "code",
   "execution_count": 83,
   "id": "cee7791c",
   "metadata": {},
   "outputs": [
    {
     "name": "stdout",
     "output_type": "stream",
     "text": [
      "Your score is: 95\n"
     ]
    }
   ],
   "source": [
    "# Your code here\n",
    "label = \"Your score is: \"\n",
    "score = 95\n",
    "# Convert score to string and concatenate\n",
    "result = label + str(score)\n",
    "\n",
    "print(result)"
   ]
  },
  {
   "cell_type": "markdown",
   "id": "2941c047",
   "metadata": {},
   "source": [
    "# Section 5: Type Conversion\n",
    "### Exercise 5.1: String to Integer\n",
    "Given str_num = \"25\":\n",
    "\n",
    "- Check its type\n",
    "- Convert it to an integer\n",
    "- Check the type of the converted value\n",
    "- Print both the original and converted values"
   ]
  },
  {
   "cell_type": "code",
   "execution_count": 84,
   "id": "3f60f60e",
   "metadata": {},
   "outputs": [
    {
     "name": "stdout",
     "output_type": "stream",
     "text": [
      "Original value: 25\n",
      "Type of original value: <class 'str'>\n",
      "Converted value: 25\n",
      "Type of converted value: <class 'int'>\n"
     ]
    }
   ],
   "source": [
    "# Your code here\n",
    "str_num = \"25\"\n",
    "\n",
    "# Check type of original variable\n",
    "print(\"Original value:\", str_num)\n",
    "print(\"Type of original value:\", type(str_num))\n",
    "\n",
    "# Convert string to integer\n",
    "int_num = int(str_num)\n",
    "\n",
    "# Check type of converted variable\n",
    "print(\"Converted value:\", int_num)\n",
    "print(\"Type of converted value:\", type(int_num))"
   ]
  },
  {
   "cell_type": "markdown",
   "id": "745d3efa",
   "metadata": {},
   "source": [
    "### Exercise 5.2: Adding Numbers with Type Conversion\n",
    "You have:\n",
    "\n",
    "- num_a = 10\n",
    "- num_b = \"15\"\n",
    "\n",
    "Add these two numbers by converting num_b to an integer"
   ]
  },
  {
   "cell_type": "code",
   "execution_count": 85,
   "id": "0af97c14",
   "metadata": {},
   "outputs": [
    {
     "name": "stdout",
     "output_type": "stream",
     "text": [
      "The sum is: 25\n"
     ]
    }
   ],
   "source": [
    "# Your code here\n",
    "num_a = 10\n",
    "num_b = \"15\"\n",
    "\n",
    "# Convert num_b to integer and add to num_a\n",
    "result = num_a + int(num_b)\n",
    "\n",
    "print(\"The sum is:\", result)\n"
   ]
  },
  {
   "cell_type": "markdown",
   "id": "e49ca983",
   "metadata": {},
   "source": [
    "# Section 6: String Indexing\n",
    "### Exercise 6.1: Basic String Indexing\n",
    "\n",
    "Given student_name = \"Python\":\n",
    "\n",
    "- Print the character at index 2\n",
    "- Print the last character using negative indexing\n",
    "- Print the second-to-last character\n",
    "- Print the first character using negative indexing\n",
    "- Print the first and last characters together (e.g., \"P,n\")\n",
    "- Print characters at positions 0, 5, and -1 together"
   ]
  },
  {
   "cell_type": "code",
   "execution_count": null,
   "id": "1308ec0b",
   "metadata": {},
   "outputs": [
    {
     "name": "stdout",
     "output_type": "stream",
     "text": [
      "Character at index 2: t\n",
      "Last character: n\n",
      "Second-to-last character: Py\n",
      "First character using negative indexing: P\n",
      "First and last characters: P,n\n",
      "Characters at positions 0, 5, and -1: Pnn\n"
     ]
    }
   ],
   "source": [
    "# Your code here\n",
    "student_name = \"Python\"\n",
    "\n",
    "# Character at index 2 (0-based indexing)\n",
    "print(\"Character at index 2:\", student_name[2])  # 't'\n",
    "\n",
    "# Last character using negative indexing\n",
    "print(\"Last character:\", student_name[-1])       # 'n'\n",
    "\n",
    "# Second-to-last character\n",
    "print(\"Second-to-last character:\", student_name[:2])  \n",
    "\n",
    "# First character using negative indexing (equivalent to index 0)\n",
    "print(\"First character using negative indexing:\", student_name[-6])  # 'P'\n",
    "\n",
    "# First and last characters together, separated by a comma\n",
    "print(\"First and last characters:\", student_name[0] + \",\" + student_name[-1])  # 'P,n'\n",
    "\n",
    "# Characters at positions 0, 5, and -1 together\n",
    "print(\"Characters at positions 0, 5, and -1:\", student_name[0] + student_name[5] + student_name[-1])  "
   ]
  },
  {
   "cell_type": "markdown",
   "id": "9a6200bb",
   "metadata": {},
   "source": [
    "# Section 7: String Slicing\n",
    "### Exercise 7.1: Basic Slicing\n",
    "Given text = \"Hello, Python!\":\n",
    "\n",
    "- Extract \"Hello\"\n",
    "- Extract \"Python\"\n",
    "- Extract the last 5 characters"
   ]
  },
  {
   "cell_type": "code",
   "execution_count": 88,
   "id": "37f370b7",
   "metadata": {},
   "outputs": [
    {
     "name": "stdout",
     "output_type": "stream",
     "text": [
      "Extracted 'Hello': Hello\n",
      "Extracted 'Python': Python\n",
      "Last 5 characters: thon!\n"
     ]
    }
   ],
   "source": [
    "# Your code here\n",
    "text = \"Hello, Python!\"\n",
    "\n",
    "# Extract \"Hello\"\n",
    "hello = text[0:5]\n",
    "\n",
    "# Extract \"Python\"\n",
    "python = text[7:13]\n",
    "\n",
    "# Extract the last 5 characters\n",
    "last_five = text[-5:]\n",
    "\n",
    "print(\"Extracted 'Hello':\", hello)\n",
    "print(\"Extracted 'Python':\", python)\n",
    "print(\"Last 5 characters:\", last_five)\n"
   ]
  },
  {
   "cell_type": "markdown",
   "id": "45428fbc",
   "metadata": {},
   "source": [
    "### Exercise 7.2: Advanced Slicing\n",
    "Using alphabet = \"abcdefghijklmno\":\n",
    "\n",
    "- Extract \"cde\"\n",
    "- Extract every second character starting from index 0\n",
    "- Extract the string in reverse order\n",
    "- Extract every third character"
   ]
  },
  {
   "cell_type": "code",
   "execution_count": 89,
   "id": "d42f1d9f",
   "metadata": {},
   "outputs": [
    {
     "name": "stdout",
     "output_type": "stream",
     "text": [
      "Extracted 'cde': cde\n",
      "Every second character: acegikmo\n",
      "String in reverse order: onmlkjihgfedcba\n",
      "Every third character: adgjm\n"
     ]
    }
   ],
   "source": [
    "# Your code here\n",
    "alphabet = \"abcdefghijklmno\"\n",
    "\n",
    "# Extract \"cde\"\n",
    "slice_cde = alphabet[2:5]\n",
    "\n",
    "# Extract every second character starting from index 0\n",
    "every_second_char = alphabet[0::2]\n",
    "\n",
    "# Extract the string in reverse order\n",
    "reverse_string = alphabet[::-1]\n",
    "\n",
    "# Extract every third character\n",
    "every_third_char = alphabet[0::3]\n",
    "\n",
    "print(\"Extracted 'cde':\", slice_cde)\n",
    "print(\"Every second character:\", every_second_char)\n",
    "print(\"String in reverse order:\", reverse_string)\n",
    "print(\"Every third character:\", every_third_char)\n"
   ]
  },
  {
   "cell_type": "markdown",
   "id": "f46f7b53",
   "metadata": {},
   "source": [
    "### Exercise 7.3: Practical Slicing\n",
    "Given sentence = \"Python programming is fun\":\n",
    "\n",
    "- Extract the word \"Python\"\n",
    "- Extract the word \"programming\"\n",
    "- Extract the last word \"fun\"\n",
    "- Extract every other character from the entire string"
   ]
  },
  {
   "cell_type": "code",
   "execution_count": 90,
   "id": "fc62cca3",
   "metadata": {},
   "outputs": [
    {
     "name": "stdout",
     "output_type": "stream",
     "text": [
      "Word 'Python': Python\n",
      "Word 'programming': programming\n",
      "Last word 'fun': fun\n",
      "Every other character: Pto rgamn sfn\n"
     ]
    }
   ],
   "source": [
    "# Your code here\n",
    "sentence = \"Python programming is fun\"\n",
    "\n",
    "# Extract the word \"Python\"\n",
    "word_python = sentence[0:6]\n",
    "\n",
    "# Extract the word \"programming\"\n",
    "word_programming = sentence[7:18]\n",
    "\n",
    "# Extract the last word \"fun\"\n",
    "word_fun = sentence[-3:]\n",
    "\n",
    "# Extract every other character from the entire string\n",
    "every_other_char = sentence[0::2]\n",
    "\n",
    "print(\"Word 'Python':\", word_python)\n",
    "print(\"Word 'programming':\", word_programming)\n",
    "print(\"Last word 'fun':\", word_fun)\n",
    "print(\"Every other character:\", every_other_char)\n"
   ]
  },
  {
   "cell_type": "markdown",
   "id": "fdc66f21",
   "metadata": {},
   "source": [
    "# Section 8: String Methods\n",
    "### Exercise 8.1: Mixed String Methods\n",
    "Create a program that:\n",
    "\n",
    "- Takes a string user_input = \"  hello WORLD  \"\n",
    "- Removes leading and trailing spaces (use .strip())\n",
    "- Converts it to title case\n",
    "- Checks if the result is alphabetic\n",
    "- Count the number of \"o\" characters\n",
    "- Replace \"o\" with \"0\""
   ]
  },
  {
   "cell_type": "code",
   "execution_count": 94,
   "id": "d002cc6f",
   "metadata": {},
   "outputs": [
    {
     "name": "stdout",
     "output_type": "stream",
     "text": [
      "hello WORLD\n",
      "Title case: Hello World\n",
      "Is alphabetic?: True\n",
      "Count of 'o': 2\n",
      "After replacing 'o' with '0': Hell0 W0rld\n"
     ]
    }
   ],
   "source": [
    "# Your code here\n",
    "user_input = \"  hello WORLD  \"\n",
    "#Removes leading and trailing spaces (use .strip())\n",
    "cleaned=user_input.strip()\n",
    "print(cleaned)\n",
    "\n",
    "# Convert to title case\n",
    "title_case = cleaned.title()\n",
    "print(\"Title case:\" ,title_case)\n",
    "\n",
    "# Check if the result is alphabetic\n",
    "is_alpha = title_case.replace(\" \", \"\").isalpha()  # Remove spaces before checking\n",
    "print(\"Is alphabetic?:\", is_alpha)\n",
    "\n",
    "# Count the number of \"o\" characters (case-insensitive)\n",
    "count_o = title_case.lower().count('o')\n",
    "print(\"Count of 'o':\", count_o)\n",
    "\n",
    "# Replace \"o\" with \"0\"\n",
    "replaced = title_case.replace('o', '0').replace('O', '0')\n",
    "\n",
    "print(\"After replacing 'o' with '0':\", replaced)\n",
    "\n",
    "\n"
   ]
  },
  {
   "cell_type": "markdown",
   "id": "b4ac379d",
   "metadata": {},
   "source": [
    "# Section 9: Debugging Exercise\n",
    "### Exercise 9.1: Find and Fix the Errors\n",
    "<!-- The following code has several errors. Identify and fix them:\n",
    "\n",
    "```\n",
    "# Original code with errors (DO NOT RUN - FIX FIRST)\n",
    "name = 'John\n",
    "age = \"25\"\n",
    "print(\"Hello, \" + name)\n",
    "print(\"You are \" + age + \" years old\")\n",
    "print(name[0] + name[-1)\n",
    "result = int(\"abc\")\n",
    "\n",
    "Write the corrected version below: -->"
   ]
  },
  {
   "cell_type": "code",
   "execution_count": 95,
   "id": "2b40e20f",
   "metadata": {},
   "outputs": [
    {
     "name": "stdout",
     "output_type": "stream",
     "text": [
      "Hello, John\n",
      "You are 25 years old\n",
      "Jn\n",
      "Result: abc\n"
     ]
    }
   ],
   "source": [
    "# Your code here\n",
    "name = 'John'               # Added missing closing quote\n",
    "age = \"25\"                  # This line is correct\n",
    "\n",
    "print(\"Hello, \" + name)     # Correct syntax\n",
    "print(\"You are \" + age + \" years old\")  # Correct syntax\n",
    "\n",
    "print(name[0] + name[-1])   # Added missing closing bracket\n",
    "\n",
    "# The following line causes an error because \"abc\" cannot be converted to int\n",
    "# Correct by either removing or replacing with a valid integer string\n",
    "result = int(\"123\")         # Changed \"abc\" to \"123\" for valid conversion\n",
    "result=str(\"abc\")\n",
    "\n",
    "print(\"Result:\", result)    # Optional: print the result to confirm\n"
   ]
  }
 ],
 "metadata": {
  "kernelspec": {
   "display_name": "Python 3",
   "language": "python",
   "name": "python3"
  },
  "language_info": {
   "codemirror_mode": {
    "name": "ipython",
    "version": 3
   },
   "file_extension": ".py",
   "mimetype": "text/x-python",
   "name": "python",
   "nbconvert_exporter": "python",
   "pygments_lexer": "ipython3",
   "version": "3.12.10"
  }
 },
 "nbformat": 4,
 "nbformat_minor": 5
}
